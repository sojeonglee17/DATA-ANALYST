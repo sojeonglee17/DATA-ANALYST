{
 "cells": [
  {
   "cell_type": "code",
   "execution_count": 46,
   "metadata": {},
   "outputs": [],
   "source": [
    "import pandas as pd\n",
    "import seaborn as sns\n",
    "import matplotlib.pyplot as plt\n",
    "import numpy as np\n",
    "\n",
    "plt.rcParams['font.family'] ='AppleGothic'"
   ]
  },
  {
   "cell_type": "code",
   "execution_count": 47,
   "metadata": {},
   "outputs": [
    {
     "data": {
      "text/html": [
       "<div>\n",
       "<style scoped>\n",
       "    .dataframe tbody tr th:only-of-type {\n",
       "        vertical-align: middle;\n",
       "    }\n",
       "\n",
       "    .dataframe tbody tr th {\n",
       "        vertical-align: top;\n",
       "    }\n",
       "\n",
       "    .dataframe thead th {\n",
       "        text-align: right;\n",
       "    }\n",
       "</style>\n",
       "<table border=\"1\" class=\"dataframe\">\n",
       "  <thead>\n",
       "    <tr style=\"text-align: right;\">\n",
       "      <th></th>\n",
       "      <th>order_id</th>\n",
       "      <th>product_category</th>\n",
       "      <th>order_date</th>\n",
       "      <th>customer_id</th>\n",
       "      <th>amount</th>\n",
       "      <th>is_returned</th>\n",
       "    </tr>\n",
       "  </thead>\n",
       "  <tbody>\n",
       "    <tr>\n",
       "      <th>0</th>\n",
       "      <td>1001</td>\n",
       "      <td>Furniture</td>\n",
       "      <td>2023-01-01</td>\n",
       "      <td>5</td>\n",
       "      <td>181.92</td>\n",
       "      <td>1</td>\n",
       "    </tr>\n",
       "    <tr>\n",
       "      <th>1</th>\n",
       "      <td>1002</td>\n",
       "      <td>Beauty</td>\n",
       "      <td>2023-01-02</td>\n",
       "      <td>97</td>\n",
       "      <td>323.98</td>\n",
       "      <td>0</td>\n",
       "    </tr>\n",
       "    <tr>\n",
       "      <th>2</th>\n",
       "      <td>1003</td>\n",
       "      <td>Groceries</td>\n",
       "      <td>2023-01-03</td>\n",
       "      <td>81</td>\n",
       "      <td>87.04</td>\n",
       "      <td>0</td>\n",
       "    </tr>\n",
       "    <tr>\n",
       "      <th>3</th>\n",
       "      <td>1004</td>\n",
       "      <td>Toys</td>\n",
       "      <td>2023-01-04</td>\n",
       "      <td>2</td>\n",
       "      <td>410.28</td>\n",
       "      <td>1</td>\n",
       "    </tr>\n",
       "    <tr>\n",
       "      <th>4</th>\n",
       "      <td>1005</td>\n",
       "      <td>Clothing</td>\n",
       "      <td>2023-01-05</td>\n",
       "      <td>83</td>\n",
       "      <td>473.49</td>\n",
       "      <td>0</td>\n",
       "    </tr>\n",
       "    <tr>\n",
       "      <th>...</th>\n",
       "      <td>...</td>\n",
       "      <td>...</td>\n",
       "      <td>...</td>\n",
       "      <td>...</td>\n",
       "      <td>...</td>\n",
       "      <td>...</td>\n",
       "    </tr>\n",
       "    <tr>\n",
       "      <th>295</th>\n",
       "      <td>1296</td>\n",
       "      <td>Electronics</td>\n",
       "      <td>2023-10-23</td>\n",
       "      <td>100</td>\n",
       "      <td>329.20</td>\n",
       "      <td>0</td>\n",
       "    </tr>\n",
       "    <tr>\n",
       "      <th>296</th>\n",
       "      <td>1297</td>\n",
       "      <td>Clothing</td>\n",
       "      <td>2023-10-24</td>\n",
       "      <td>7</td>\n",
       "      <td>385.58</td>\n",
       "      <td>0</td>\n",
       "    </tr>\n",
       "    <tr>\n",
       "      <th>297</th>\n",
       "      <td>1298</td>\n",
       "      <td>Clothing</td>\n",
       "      <td>2023-10-25</td>\n",
       "      <td>37</td>\n",
       "      <td>230.94</td>\n",
       "      <td>0</td>\n",
       "    </tr>\n",
       "    <tr>\n",
       "      <th>298</th>\n",
       "      <td>1299</td>\n",
       "      <td>Electronics</td>\n",
       "      <td>2023-10-26</td>\n",
       "      <td>86</td>\n",
       "      <td>28.48</td>\n",
       "      <td>0</td>\n",
       "    </tr>\n",
       "    <tr>\n",
       "      <th>299</th>\n",
       "      <td>1300</td>\n",
       "      <td>Groceries</td>\n",
       "      <td>2023-10-27</td>\n",
       "      <td>87</td>\n",
       "      <td>306.85</td>\n",
       "      <td>0</td>\n",
       "    </tr>\n",
       "  </tbody>\n",
       "</table>\n",
       "<p>300 rows × 6 columns</p>\n",
       "</div>"
      ],
      "text/plain": [
       "     order_id product_category  order_date  customer_id  amount  is_returned\n",
       "0        1001        Furniture  2023-01-01            5  181.92            1\n",
       "1        1002           Beauty  2023-01-02           97  323.98            0\n",
       "2        1003        Groceries  2023-01-03           81   87.04            0\n",
       "3        1004             Toys  2023-01-04            2  410.28            1\n",
       "4        1005         Clothing  2023-01-05           83  473.49            0\n",
       "..        ...              ...         ...          ...     ...          ...\n",
       "295      1296      Electronics  2023-10-23          100  329.20            0\n",
       "296      1297         Clothing  2023-10-24            7  385.58            0\n",
       "297      1298         Clothing  2023-10-25           37  230.94            0\n",
       "298      1299      Electronics  2023-10-26           86   28.48            0\n",
       "299      1300        Groceries  2023-10-27           87  306.85            0\n",
       "\n",
       "[300 rows x 6 columns]"
      ]
     },
     "execution_count": 47,
     "metadata": {},
     "output_type": "execute_result"
    }
   ],
   "source": [
    "df2= pd.read_csv('sales_data.csv')\n",
    "df2"
   ]
  },
  {
   "cell_type": "code",
   "execution_count": 48,
   "metadata": {},
   "outputs": [
    {
     "data": {
      "image/png": "[encoded data removed]",
      "text/plain": [
       "<Figure size 640x480 with 1 Axes>"
      ]
     },
     "metadata": {},
     "output_type": "display_data"
    }
   ],
   "source": [
    "'''\n",
    "1.가장 많은 주문이 발생한 월을 구하고,월별 주문 수를 막대 그래프로\n",
    "\n",
    "'''\n",
    "\n",
    "#1.\n",
    "\n",
    "df2['order_date']=pd.to_datetime(df2['order_date'])\n",
    "df2['month']=df2['order_date'].dt.month\n",
    "\n",
    "\n",
    "order_by_month= df2['month'].value_counts().sort_index()\n",
    "\n",
    "sns.barplot(x=order_by_month.index,y=order_by_month.values)\n",
    "\n",
    "plt.title(\"월별 주문 수\")\n",
    "plt.xlabel(\"월\")\n",
    "plt.ylabel(\"주문 수\")\n",
    "plt.show()\n",
    "\n"
   ]
  },
  {
   "cell_type": "code",
   "execution_count": 49,
   "metadata": {},
   "outputs": [
    {
     "name": "stdout",
     "output_type": "stream",
     "text": [
      "Seaborn version: 0.13.2\n",
      "Matplotlib version: 3.9.2\n"
     ]
    }
   ],
   "source": [
    "import matplotlib\n",
    "print(\"Seaborn version:\", sns.__version__)\n",
    "print(\"Matplotlib version:\", matplotlib.__version__)"
   ]
  },
  {
   "cell_type": "code",
   "execution_count": 53,
   "metadata": {},
   "outputs": [
    {
     "data": {
      "image/png": "[encoded data removed]",
      "text/plain": [
       "<Figure size 640x480 with 1 Axes>"
      ]
     },
     "metadata": {},
     "output_type": "display_data"
    }
   ],
   "source": [
    "'''\n",
    "2.카테고리별 촐 판매금액 계산하고 상위 5개 카테고리를 시각화하세요.\n",
    "'''\n",
    "\n",
    "category_total_amount=df2.groupby('product_category')['amount'].sum().sort_values(ascending=False).head()\n",
    "category_total_amount\n",
    "\n",
    "sns.barplot(x=category_total_amount.index,y=category_total_amount.values)\n",
    "\n",
    "plt.title('카테고리 별 총 판매금액 (Top 5)')\n",
    "plt.xlabel(\"카테고리\")\n",
    "plt.ylabel(\"판매금액\")\n",
    "plt.xticks(rotation=45)\n",
    "plt.show()"
   ]
  },
  {
   "cell_type": "code",
   "execution_count": null,
   "metadata": {},
   "outputs": [],
   "source": []
  }
 ],
 "metadata": {
  "kernelspec": {
   "display_name": "Python 3",
   "language": "python",
   "name": "python3"
  },
  "language_info": {
   "codemirror_mode": {
    "name": "ipython",
    "version": 3
   },
   "file_extension": ".py",
   "mimetype": "text/x-python",
   "name": "python",
   "nbconvert_exporter": "python",
   "pygments_lexer": "ipython3",
   "version": "3.9.6"
  }
 },
 "nbformat": 4,
 "nbformat_minor": 2
}
